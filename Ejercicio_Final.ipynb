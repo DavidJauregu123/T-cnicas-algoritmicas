{
  "nbformat": 4,
  "nbformat_minor": 0,
  "metadata": {
    "colab": {
      "provenance": []
    },
    "kernelspec": {
      "name": "python3",
      "display_name": "Python 3"
    },
    "language_info": {
      "name": "python"
    }
  },
  "cells": [
    {
      "cell_type": "markdown",
      "source": [
        "# Descripción del problema\n"
      ],
      "metadata": {
        "id": "GAMzBNSr7x1b"
      }
    },
    {
      "cell_type": "markdown",
      "source": [
        "Desarrolla un algoritmo eficiente para resolver un Sudoku utilizando una de las técnicas algorítmicas avanzadas: programación dinámica, divide y vencerás, o algoritmos voraces. Elige la técnica que consideres más adecuada y justifica tu selección en base a la estructura del problema y la complejidad computacional esperada."
      ],
      "metadata": {
        "id": "xHVzI1Fc7g76"
      }
    },
    {
      "cell_type": "markdown",
      "source": [
        "# Intrucciones:"
      ],
      "metadata": {
        "id": "PyULvrT87rHZ"
      }
    },
    {
      "cell_type": "markdown",
      "source": [
        "**1. Elección de Técnica:** Evalúa las tres técnicas algorítmicas y elige la que consideres más efectiva para resolver el problema de Sudoku. Justifica tu elección en un reporte breve (1-2 párrafos), destacando las ventajas de tu técnica en términos de:"
      ],
      "metadata": {
        "id": "-cJQ-jbk7p1L"
      }
    },
    {
      "cell_type": "markdown",
      "source": [
        "Para resolver el Sudoku, se eligió usar un *algoritmo voraz* con una técnica llamada *backtracking*, y aunque este dicho, no forma parte del temario sigue siendo parte de los algoritmos voraces debido a su enfoque sistemático para explorar espacios de solución. Esta técnica consiste en probar números en cada celda vacía y avanzar cuando el número cumple las reglas. Si en algún punto no se puede avanzar, el algoritmo retrocede (backtrack) y prueba una opción diferente.\n",
        "\n",
        "Ventajas de la Técnica\n",
        "Complejidad Computacional:\n",
        "\n",
        "* **Complejidad Computacional:**\n",
        "El algoritmo de backtracking tiene una complejidad teórica de\n",
        "𝑂(9^81), ya que cada una de las 81 celdas del Sudoku puede contener uno de los 9 números posibles. Sin embargo, en la práctica, esta complejidad se reduce considerablemente gracias al pruning (poda), un proceso que elimina configuraciones inválidas de forma temprana. Esto significa que el algoritmo descarta rápidamente opciones que violan las reglas del Sudoku, como repetir un número en una fila, columna o subcuadrícula, lo que evita explorar combinaciones inútiles. Por esta razón, aunque su complejidad teórica es alta, el backtracking es eficiente para tableros de Sudoku reales, ya que estos suelen tener celdas prellenadas y soluciones únicas que limitan el espacio de búsqueda.\n",
        "\n",
        "* **Facilidad de Implementación y Adaptación:** Este método es fácil de programar y entender porque se ajusta directamente a las reglas del Sudoku (números únicos en filas, columnas y subcuadrículas). Además, el enfoque modular facilita la comprensión y depuración del código.\n"
      ],
      "metadata": {
        "id": "ocxBSSvfFoeC"
      }
    },
    {
      "cell_type": "markdown",
      "source": [
        "**2. Implementación:**\n",
        "*   Implementa el algoritmo utilizando el lenguaje de programación de tu preferencia.\n",
        "*   Asegúrate de que el código esté optimizado y siga las buenas prácticas de codificación.\n",
        "*   Incluye comentarios en tu código que expliquen el proceso y las decisiones algorítmicas tomadas.\n",
        "\n",
        "\n",
        "\n",
        "\n",
        "\n"
      ],
      "metadata": {
        "id": "yDFYXDis-1o9"
      }
    },
    {
      "cell_type": "code",
      "source": [
        "#Bliblioteca utilizada\n",
        "import time\n"
      ],
      "metadata": {
        "id": "0WEhAavlGFZs"
      },
      "execution_count": null,
      "outputs": []
    },
    {
      "cell_type": "code",
      "execution_count": 3,
      "metadata": {
        "colab": {
          "base_uri": "https://localhost:8080/"
        },
        "id": "3sy8w0He16-9",
        "outputId": "ac80a861-7a63-448b-e198-ed55d0b4ddd1"
      },
      "outputs": [
        {
          "output_type": "stream",
          "name": "stdout",
          "text": [
            "Tablero inicial:\n",
            "5 3 . | . 7 . | . . . \n",
            "6 . . | 1 9 5 | . . . \n",
            ". 9 8 | . . . | . 6 . \n",
            "---------------------\n",
            "8 . . | . 6 . | . . 3 \n",
            "4 . . | 8 . 3 | . . 1 \n",
            "7 . . | . 2 . | . . 6 \n",
            "---------------------\n",
            ". 6 . | . . . | 2 8 . \n",
            ". . . | 4 1 9 | . . 5 \n",
            ". . . | . 8 . | . 7 9 \n",
            "\n",
            "Sudoku resuelto:\n",
            "5 3 4 | 6 7 8 | 9 1 2 \n",
            "6 7 2 | 1 9 5 | 3 4 8 \n",
            "1 9 8 | 3 4 2 | 5 6 7 \n",
            "---------------------\n",
            "8 5 9 | 7 6 1 | 4 2 3 \n",
            "4 2 6 | 8 5 3 | 7 9 1 \n",
            "7 1 3 | 9 2 4 | 8 5 6 \n",
            "---------------------\n",
            "9 6 1 | 5 3 7 | 2 8 4 \n",
            "2 8 7 | 4 1 9 | 6 3 5 \n",
            "3 4 5 | 2 8 6 | 1 7 9 \n",
            "\n",
            "Tiempo de ejecución: 0.1220 segundos\n"
          ]
        }
      ],
      "source": [
        "def is_valid(board, row, col, num):\n",
        "    \"\"\"\n",
        "    Verifica si el número `num` puede colocarse en la celda (row, col) sin violar las reglas del Sudoku.\n",
        "    Reglas:\n",
        "    1. El número no debe repetirse en la misma fila.\n",
        "    2. El número no debe repetirse en la misma columna.\n",
        "    3. El número no debe repetirse en la subcuadrícula 3x3 correspondiente.\n",
        "    \"\"\"\n",
        "    # Verificar si el número ya está en la fila\n",
        "    if num in board[row]:\n",
        "        return False\n",
        "\n",
        "    # Verificar si el número ya está en la columna\n",
        "    if num in [board[i][col] for i in range(9)]:\n",
        "        return False\n",
        "\n",
        "    # Verificar si el número ya está en la subcuadrícula 3x3\n",
        "    start_row, start_col = 3 * (row // 3), 3 * (col // 3)\n",
        "    for i in range(start_row, start_row + 3):\n",
        "        for j in range(start_col, start_col + 3):\n",
        "            if board[i][j] == num:\n",
        "                return False\n",
        "\n",
        "    # Si pasa todas las reglas, el número es válido\n",
        "    return True\n",
        "\n",
        "def solve_sudoku(board):\n",
        "    \"\"\"\n",
        "    Resuelve el Sudoku utilizando la técnica de backtracking.\n",
        "    Proceso:\n",
        "    1. Encuentra una celda vacía (valor 0).\n",
        "    2. Prueba los números del 1 al 9 en esa celda.\n",
        "    3. Si el número es válido (cumple las reglas del Sudoku), colócalo y avanza.\n",
        "    4. Si se encuentra un conflicto más adelante, retrocede y prueba otro número (backtracking).\n",
        "    5. Repite hasta que todas las celdas estén llenas o no haya solución posible.\n",
        "    \"\"\"\n",
        "    for row in range(9):  # Recorre cada fila\n",
        "        for col in range(9):  # Recorre cada columna\n",
        "            if board[row][col] == 0:  # Encuentra una celda vacía\n",
        "                for num in range(1, 10):  # Prueba los números del 1 al 9\n",
        "                    if is_valid(board, row, col, num):  # Verifica si el número es válido\n",
        "                        board[row][col] = num  # Coloca el número provisionalmente\n",
        "                        if solve_sudoku(board):  # Llamada recursiva para llenar las siguientes celdas\n",
        "                            return True\n",
        "                        board[row][col] = 0  # Si no funciona, vacía la celda (retrocede)\n",
        "                return False  # Si ningún número es válido, no hay solución posible\n",
        "    return True  # Todas las celdas están llenas y el tablero está resuelto\n",
        "\n",
        "def print_sudoku_grid(board):\n",
        "    \"\"\"\n",
        "    Imprime el tablero de Sudoku con formato de cuadrícula.\n",
        "    Incluye separadores para distinguir las subcuadrículas 3x3.\n",
        "    \"\"\"\n",
        "    for i in range(9):\n",
        "        if i % 3 == 0 and i != 0:  # Línea horizontal después de cada bloque de 3 filas\n",
        "            print(\"-\" * 21)\n",
        "        for j in range(9):\n",
        "            if j % 3 == 0 and j != 0:  # Línea vertical después de cada bloque de 3 columnas\n",
        "                print(\"| \", end=\"\")\n",
        "            print(board[i][j] if board[i][j] != 0 else \".\", end=\" \")  # Muestra \".\" para celdas vacías\n",
        "        print()  # Salto de línea al final de cada fila\n",
        "\n",
        "# Tablero de Sudoku (representado como una lista de listas)\n",
        "# Los valores 0 representan celdas vacías\n",
        "sudoku_board = [\n",
        "    [5, 3, 0, 0, 7, 0, 0, 0, 0],\n",
        "    [6, 0, 0, 1, 9, 5, 0, 0, 0],\n",
        "    [0, 9, 8, 0, 0, 0, 0, 6, 0],\n",
        "    [8, 0, 0, 0, 6, 0, 0, 0, 3],\n",
        "    [4, 0, 0, 8, 0, 3, 0, 0, 1],\n",
        "    [7, 0, 0, 0, 2, 0, 0, 0, 6],\n",
        "    [0, 6, 0, 0, 0, 0, 2, 8, 0],\n",
        "    [0, 0, 0, 4, 1, 9, 0, 0, 5],\n",
        "    [0, 0, 0, 0, 8, 0, 0, 7, 9]\n",
        "]\n",
        "\n",
        "# Imprimir el tablero inicial\n",
        "print(\"Tablero inicial:\")\n",
        "print_sudoku_grid(sudoku_board)\n",
        "\n",
        "# Resolver el Sudoku y medir el tiempo de ejecución\n",
        "start_time = time.time()  # Registrar el tiempo de inicio\n",
        "if solve_sudoku(sudoku_board):  # Llamar al algoritmo de backtracking\n",
        "    end_time = time.time()  # Registrar el tiempo de finalización\n",
        "    print(\"\\nSudoku resuelto:\")\n",
        "    print_sudoku_grid(sudoku_board)  # Imprimir el tablero resuelto\n",
        "    print(f\"\\nTiempo de ejecución: {end_time - start_time:.4f} segundos\")\n",
        "else:\n",
        "    print(\"No se encontró solución al Sudoku.\")\n",
        "\n"
      ]
    },
    {
      "cell_type": "markdown",
      "source": [
        "**3. Evaluación y Análisis de Complejidad**"
      ],
      "metadata": {
        "id": "aJffq2DT-s-2"
      }
    },
    {
      "cell_type": "markdown",
      "source": [
        "**Temporal:**\n",
        "𝑂(9^81), en el peor caso, ya que cada celda puede tener 9 posibles valores. Sin embargo, en la práctica, gracias al pruning, esta complejidad se reduce considerablemente al descartar configuraciones inválidas rápidamente.\n",
        "\n",
        "\n",
        "**Espacial:**\n",
        "𝑂(𝑁), donde 𝑁=81, por la profundidad máxima de las llamadas recursivas, ya que el algoritmo llena el tablero celda por celda."
      ],
      "metadata": {
        "id": "HUPWks39EavK"
      }
    },
    {
      "cell_type": "markdown",
      "source": [
        "**Comparaciones breves con otras técnicas**"
      ],
      "metadata": {
        "id": "kukbEnuSFks6"
      }
    },
    {
      "cell_type": "markdown",
      "source": [
        "1. Programación Dinámica (PD):\n",
        "\n",
        "Por qué no se seleccionó: La programación dinámica es eficiente para problemas con subproblemas que se repiten y pueden reutilizarse, pero el Sudoku no tiene esta característica. Cada celda del tablero depende de reglas específicas de filas, columnas y subcuadrículas, lo que hace que las soluciones parciales no sean reutilizables. Además, intentar almacenar estados parciales del tablero generaría una enorme cantidad de combinaciones, haciéndolo poco práctico tanto en tiempo como en memoria.\n",
        "\n",
        "\n",
        "2. Divide y Vencerás:\n",
        "\n",
        "Por qué no se seleccionó: Esta técnica es útil cuando un problema puede dividirse en partes independientes que se resuelven por separado. Sin embargo, en el Sudoku, todas las celdas están interconectadas por restricciones (una decisión en una celda afecta otras). Esto dificulta dividir el problema en subproblemas independientes y manejarlo con esta técnica."
      ],
      "metadata": {
        "id": "QfVv-1kXFywn"
      }
    }
  ]
}